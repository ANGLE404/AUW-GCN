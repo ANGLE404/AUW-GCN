{
 "cells": [
  {
   "cell_type": "code",
   "execution_count": 1,
   "metadata": {},
   "outputs": [],
   "source": [
    "import pandas as pd\n",
    "import numpy as np"
   ]
  },
  {
   "cell_type": "code",
   "execution_count": 2,
   "metadata": {},
   "outputs": [],
   "source": [
    "df = pd.read_csv('samm_new_25.csv')"
   ]
  },
  {
   "cell_type": "code",
   "execution_count": 3,
   "metadata": {},
   "outputs": [],
   "source": [
    "df['len'] = df['end_frame'] - df['start_frame']"
   ]
  },
  {
   "cell_type": "code",
   "execution_count": 4,
   "metadata": {},
   "outputs": [
    {
     "name": "stdout",
     "output_type": "stream",
     "text": [
      "    subject  video_name  start_frame  apex_frame  end_frame  type_idx  \\\n",
      "0  samm_006  samm_006_1           70          80         92         1   \n",
      "1  samm_006  samm_006_1          445         448        453         2   \n",
      "2  samm_006  samm_006_1          238         243        248         2   \n",
      "3  samm_006  samm_006_1           40          45         50         2   \n",
      "4  samm_006  samm_006_1          417         423        427         2   \n",
      "\n",
      "          au  len  \n",
      "0  4(B/C)+7B   22  \n",
      "1        4+7    8  \n",
      "2          4   10  \n",
      "3        4+7   10  \n",
      "4        4+7   10  \n"
     ]
    }
   ],
   "source": [
    "print(df.head())"
   ]
  },
  {
   "cell_type": "code",
   "execution_count": 6,
   "metadata": {},
   "outputs": [
    {
     "data": {
      "text/html": [
       "<div>\n",
       "<style scoped>\n",
       "    .dataframe tbody tr th:only-of-type {\n",
       "        vertical-align: middle;\n",
       "    }\n",
       "\n",
       "    .dataframe tbody tr th {\n",
       "        vertical-align: top;\n",
       "    }\n",
       "\n",
       "    .dataframe thead tr th {\n",
       "        text-align: left;\n",
       "    }\n",
       "\n",
       "    .dataframe thead tr:last-of-type th {\n",
       "        text-align: right;\n",
       "    }\n",
       "</style>\n",
       "<table border=\"1\" class=\"dataframe\">\n",
       "  <thead>\n",
       "    <tr>\n",
       "      <th></th>\n",
       "      <th colspan=\"3\" halign=\"left\">start_frame</th>\n",
       "      <th colspan=\"3\" halign=\"left\">apex_frame</th>\n",
       "      <th colspan=\"3\" halign=\"left\">end_frame</th>\n",
       "      <th colspan=\"3\" halign=\"left\">len</th>\n",
       "    </tr>\n",
       "    <tr>\n",
       "      <th></th>\n",
       "      <th>mean</th>\n",
       "      <th>min</th>\n",
       "      <th>max</th>\n",
       "      <th>mean</th>\n",
       "      <th>min</th>\n",
       "      <th>max</th>\n",
       "      <th>mean</th>\n",
       "      <th>min</th>\n",
       "      <th>max</th>\n",
       "      <th>mean</th>\n",
       "      <th>min</th>\n",
       "      <th>max</th>\n",
       "    </tr>\n",
       "    <tr>\n",
       "      <th>type_idx</th>\n",
       "      <th></th>\n",
       "      <th></th>\n",
       "      <th></th>\n",
       "      <th></th>\n",
       "      <th></th>\n",
       "      <th></th>\n",
       "      <th></th>\n",
       "      <th></th>\n",
       "      <th></th>\n",
       "      <th></th>\n",
       "      <th></th>\n",
       "      <th></th>\n",
       "    </tr>\n",
       "  </thead>\n",
       "  <tbody>\n",
       "    <tr>\n",
       "      <th>1</th>\n",
       "      <td>269.335277</td>\n",
       "      <td>0</td>\n",
       "      <td>1150</td>\n",
       "      <td>295.142857</td>\n",
       "      <td>-1</td>\n",
       "      <td>1197</td>\n",
       "      <td>323.346939</td>\n",
       "      <td>20</td>\n",
       "      <td>1204</td>\n",
       "      <td>54.011662</td>\n",
       "      <td>12</td>\n",
       "      <td>646</td>\n",
       "    </tr>\n",
       "    <tr>\n",
       "      <th>2</th>\n",
       "      <td>259.547170</td>\n",
       "      <td>9</td>\n",
       "      <td>1406</td>\n",
       "      <td>261.320755</td>\n",
       "      <td>-1</td>\n",
       "      <td>1415</td>\n",
       "      <td>268.754717</td>\n",
       "      <td>20</td>\n",
       "      <td>1418</td>\n",
       "      <td>9.207547</td>\n",
       "      <td>4</td>\n",
       "      <td>13</td>\n",
       "    </tr>\n",
       "  </tbody>\n",
       "</table>\n",
       "</div>"
      ],
      "text/plain": [
       "         start_frame            apex_frame             end_frame            \\\n",
       "                mean min   max        mean min   max        mean min   max   \n",
       "type_idx                                                                     \n",
       "1         269.335277   0  1150  295.142857  -1  1197  323.346939  20  1204   \n",
       "2         259.547170   9  1406  261.320755  -1  1415  268.754717  20  1418   \n",
       "\n",
       "                len           \n",
       "               mean min  max  \n",
       "type_idx                      \n",
       "1         54.011662  12  646  \n",
       "2          9.207547   4   13  "
      ]
     },
     "execution_count": 6,
     "metadata": {},
     "output_type": "execute_result"
    }
   ],
   "source": [
    "df.groupby(['type_idx']).agg([np.mean, min, max])"
   ]
  },
  {
   "cell_type": "code",
   "execution_count": 2,
   "metadata": {},
   "outputs": [],
   "source": [
    "import glob\n",
    "import os"
   ]
  },
  {
   "cell_type": "code",
   "execution_count": 12,
   "metadata": {},
   "outputs": [],
   "source": [
    "csv_list = glob.glob(os.path.join('../output/casme/', '*/epoch_*.csv'))"
   ]
  },
  {
   "cell_type": "code",
   "execution_count": 13,
   "metadata": {},
   "outputs": [
    {
     "name": "stdout",
     "output_type": "stream",
     "text": [
      "17\n"
     ]
    }
   ],
   "source": [
    "min_epoch = 1e3\n",
    "for csv_file in csv_list:\n",
    "    df = pd.read_csv(csv_file)\n",
    "    epoch = int(df.loc[0, 'epoch'].item())\n",
    "    min_epoch = min(min_epoch, epoch)\n",
    "\n",
    "print(min_epoch)\n",
    "\n"
   ]
  }
 ],
 "metadata": {
  "kernelspec": {
   "display_name": "Python 3.7.12 ('torch': conda)",
   "language": "python",
   "name": "python3"
  },
  "language_info": {
   "codemirror_mode": {
    "name": "ipython",
    "version": 3
   },
   "file_extension": ".py",
   "mimetype": "text/x-python",
   "name": "python",
   "nbconvert_exporter": "python",
   "pygments_lexer": "ipython3",
   "version": "3.7.12"
  },
  "orig_nbformat": 4,
  "vscode": {
   "interpreter": {
    "hash": "14c1e72c7fee4f049c8c6f2edb5b3a35ae3dfc86e56afbb4f703f8dd5c5b3586"
   }
  }
 },
 "nbformat": 4,
 "nbformat_minor": 2
}
